{
  "nbformat": 4,
  "nbformat_minor": 0,
  "metadata": {
    "colab": {
      "name": "Assignment5(Hrushikesh Bhagade).ipynb",
      "provenance": []
    },
    "kernelspec": {
      "name": "python3",
      "display_name": "Python 3"
    },
    "language_info": {
      "name": "python"
    }
  },
  "cells": [
    {
      "cell_type": "markdown",
      "metadata": {
        "id": "CzekhKM4Vnda"
      },
      "source": [
        "### Assignment 5\n",
        "\n",
        "### Hrushikesh Bhagade"
      ]
    },
    {
      "cell_type": "markdown",
      "metadata": {
        "id": "or7AwE5kWB99"
      },
      "source": [
        "Q.1 Given a list of integers, write a function to return the sum of all prime numbers in that list."
      ]
    },
    {
      "cell_type": "code",
      "metadata": {
        "colab": {
          "base_uri": "https://localhost:8080/"
        },
        "id": "8i1Q1FvtVh4p",
        "outputId": "f244fa5a-7b19-4b4c-f3b9-afc29b07ab14"
      },
      "source": [
        "def primes_sum(n):\n",
        "    sum = 0\n",
        "    for num in n:  \n",
        "       if num > 1:  \n",
        "           for i in range(2,num):  \n",
        "               if (num % i) == 0:  \n",
        "                   break  \n",
        "           else:  \n",
        "               sum = sum + num\n",
        "    if sum < 1:\n",
        "        print(str(n))\n",
        "    else:\n",
        "        print(str(sum))\n",
        "primes_sum([1, 2, 3, 4, 5, 6, 8,7, 9, 10,11,12,13,14,15])"
      ],
      "execution_count": 3,
      "outputs": [
        {
          "output_type": "stream",
          "name": "stdout",
          "text": [
            "41\n"
          ]
        }
      ]
    },
    {
      "cell_type": "markdown",
      "metadata": {
        "id": "jsHc6PAsYjhr"
      },
      "source": [
        "Q.2 Given a list of integers, write a function to check whether the list is strictly increasing or not.\n"
      ]
    },
    {
      "cell_type": "code",
      "metadata": {
        "colab": {
          "base_uri": "https://localhost:8080/"
        },
        "id": "GTcy1zukYtPk",
        "outputId": "186bb1cd-ae77-4ed5-ee84-dbfcefe50cd6"
      },
      "source": [
        "def solve(nums):\n",
        "  if len(nums) <= 2:\n",
        "    return True\n",
        "    if len(set(nums)) != len(nums):\n",
        "      return False\n",
        "  ordered = sorted(nums)\n",
        "  return nums == ordered or nums == ordered[::-1]\n",
        "print(solve([1, 2, 4, 5, 6, 10,3]))"
      ],
      "execution_count": 4,
      "outputs": [
        {
          "output_type": "stream",
          "name": "stdout",
          "text": [
            "False\n"
          ]
        }
      ]
    },
    {
      "cell_type": "markdown",
      "metadata": {
        "id": "oWbLaxLPZNl2"
      },
      "source": [
        "Q.3 Write a function to check whether a given list is expanding or not (the difference between\n",
        "adjacent elements should keep on increasing)."
      ]
    },
    {
      "cell_type": "code",
      "metadata": {
        "colab": {
          "base_uri": "https://localhost:8080/"
        },
        "id": "HeH_kKJvZQPD",
        "outputId": "5cd78b6d-f572-49fc-92e3-b6ec0fe27181"
      },
      "source": [
        "def solve(nums):\n",
        "  if len(nums) <= 2:\n",
        "    return True\n",
        "    if len(set(nums)) != len(nums):\n",
        "      return False\n",
        "  ordered = sorted(nums)\n",
        "  return nums == ordered or nums == ordered[::-1]\n",
        "print(solve([19, 26, 48, 55, 15, 85,34]))"
      ],
      "execution_count": 5,
      "outputs": [
        {
          "output_type": "stream",
          "name": "stdout",
          "text": [
            "False\n"
          ]
        }
      ]
    },
    {
      "cell_type": "markdown",
      "metadata": {
        "id": "Pvo3_BflZkHA"
      },
      "source": [
        "Q.4 Write a function to calculate all permutations of a given string. (Without using itertools"
      ]
    },
    {
      "cell_type": "code",
      "metadata": {
        "colab": {
          "base_uri": "https://localhost:8080/"
        },
        "id": "ydlp2rmGZh6p",
        "outputId": "705fce17-e011-4641-8447-ca26ae3669ba"
      },
      "source": [
        "\n",
        "Str = input()\n",
        "result = [] \n",
        "def permute(data, i, length):\n",
        "    if i == length:\n",
        "        result.append(''.join(data))\n",
        "    else:\n",
        "        for j in range(i, length):\n",
        "            data[i], data[j] = data[j], data[i]\n",
        "            permute(data, i + 1, length)\n",
        "            data[i], data[j] = data[j], data[i] \n",
        "permute(list(Str), 0, len(Str))\n",
        "print(str(result))"
      ],
      "execution_count": 6,
      "outputs": [
        {
          "output_type": "stream",
          "name": "stdout",
          "text": [
            "abcd\n",
            "['abcd', 'abdc', 'acbd', 'acdb', 'adcb', 'adbc', 'bacd', 'badc', 'bcad', 'bcda', 'bdca', 'bdac', 'cbad', 'cbda', 'cabd', 'cadb', 'cdab', 'cdba', 'dbca', 'dbac', 'dcba', 'dcab', 'dacb', 'dabc']\n"
          ]
        }
      ]
    }
  ]
}